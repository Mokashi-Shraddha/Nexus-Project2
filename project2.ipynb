{
  "cells": [
    {
      "cell_type": "code",
      "execution_count": null,
      "metadata": {
        "colab": {
          "base_uri": "https://localhost:8080/"
        },
        "id": "CiH_JWeRJeIP",
        "outputId": "c47fdf24-19d0-470d-f452-d283841bcd23"
      },
      "outputs": [
        {
          "name": "stdout",
          "output_type": "stream",
          "text": [
            "Mounted at /content/drive\n"
          ]
        }
      ],
      "source": [
        "from google.colab import drive\n",
        "drive.mount('/content/drive', force_remount=True)"
      ]
    },
    {
      "cell_type": "code",
      "execution_count": null,
      "metadata": {
        "colab": {
          "base_uri": "https://localhost:8080/"
        },
        "id": "iAvz7wFEKf4b",
        "outputId": "0f125bfd-60ff-49f0-bc84-7f3346488393"
      },
      "outputs": [
        {
          "name": "stdout",
          "output_type": "stream",
          "text": [
            "Dataset Info:\n",
            "<class 'pandas.core.frame.DataFrame'>\n",
            "RangeIndex: 27481 entries, 0 to 27480\n",
            "Data columns (total 10 columns):\n",
            " #   Column            Non-Null Count  Dtype  \n",
            "---  ------            --------------  -----  \n",
            " 0   textID            27481 non-null  object \n",
            " 1   text              27480 non-null  object \n",
            " 2   selected_text     27480 non-null  object \n",
            " 3   sentiment         27481 non-null  object \n",
            " 4   Time of Tweet     27481 non-null  object \n",
            " 5   Age of User       27481 non-null  object \n",
            " 6   Country           27481 non-null  object \n",
            " 7   Population -2020  27481 non-null  int64  \n",
            " 8   Land Area (Km²)   27481 non-null  float64\n",
            " 9   Density (P/Km²)   27481 non-null  int64  \n",
            "dtypes: float64(1), int64(2), object(7)\n",
            "memory usage: 2.1+ MB\n",
            "None\n",
            "\n",
            "First Few Rows:\n",
            "       textID                                               text  \\\n",
            "0  cb774db0d1                I`d have responded, if I were going   \n",
            "1  549e992a42      Sooo SAD I will miss you here in San Diego!!!   \n",
            "2  088c60f138                          my boss is bullying me...   \n",
            "3  9642c003ef                     what interview! leave me alone   \n",
            "4  358bd9e861   Sons of ****, why couldn`t they put them on t...   \n",
            "\n",
            "                         selected_text sentiment Time of Tweet Age of User  \\\n",
            "0  I`d have responded, if I were going   neutral       morning        0-20   \n",
            "1                             Sooo SAD  negative          noon       21-30   \n",
            "2                          bullying me  negative         night       31-45   \n",
            "3                       leave me alone  negative       morning       46-60   \n",
            "4                        Sons of ****,  negative          noon       60-70   \n",
            "\n",
            "       Country  Population -2020  Land Area (Km²)  Density (P/Km²)  \n",
            "0  Afghanistan          38928346         652860.0               60  \n",
            "1      Albania           2877797          27400.0              105  \n",
            "2      Algeria          43851044        2381740.0               18  \n",
            "3      Andorra             77265            470.0              164  \n",
            "4       Angola          32866272        1246700.0               26  \n",
            "\n",
            "Missing Values:\n",
            "textID              0\n",
            "text                1\n",
            "selected_text       1\n",
            "sentiment           0\n",
            "Time of Tweet       0\n",
            "Age of User         0\n",
            "Country             0\n",
            "Population -2020    0\n",
            "Land Area (Km²)     0\n",
            "Density (P/Km²)     0\n",
            "dtype: int64\n",
            "\n",
            "Descriptive Statistics:\n",
            "       Population -2020  Land Area (Km²)  Density (P/Km²)\n",
            "count      2.748100e+04     2.748100e+04     27481.000000\n",
            "mean       4.018497e+07     6.621730e+05       357.686583\n",
            "std        1.504946e+08     1.807425e+06      2013.750702\n",
            "min        8.010000e+02     0.000000e+00         2.000000\n",
            "25%        1.968001e+06     2.281000e+04        35.000000\n",
            "50%        8.655535e+06     1.118900e+05        89.000000\n",
            "75%        2.843594e+07     5.279700e+05       214.000000\n",
            "max        1.439324e+09     1.637687e+07     26337.000000\n",
            "\n",
            "Unique Sentiment Labels:\n",
            "['neutral' 'negative' 'positive']\n",
            "\n",
            "Sentiment Label Distribution:\n",
            "neutral     11118\n",
            "positive     8582\n",
            "negative     7781\n",
            "Name: sentiment, dtype: int64\n",
            "\n",
            "Dataset Size:\n",
            "Number of Rows: 27481\n",
            "Number of Columns: 10\n"
          ]
        }
      ],
      "source": [
        "import pandas as pd\n",
        "\n",
        "# Load the dataset\n",
        "df = pd.read_csv('/content/drive/MyDrive/Colab Notebooks/Nexus/train.csv', encoding='latin1')\n",
        "\n",
        "# Display basic information about the dataset\n",
        "print(\"Dataset Info:\")\n",
        "print(df.info())\n",
        "\n",
        "# Display the first few rows of the dataset\n",
        "print(\"\\nFirst Few Rows:\")\n",
        "print(df.head())\n",
        "\n",
        "# Check for missing values\n",
        "print(\"\\nMissing Values:\")\n",
        "print(df.isnull().sum())\n",
        "\n",
        "# Display descriptive statistics\n",
        "print(\"\\nDescriptive Statistics:\")\n",
        "print(df.describe())\n",
        "\n",
        "# Explore unique values in the 'sentiment' column\n",
        "print(\"\\nUnique Sentiment Labels:\")\n",
        "print(df['sentiment'].unique())\n",
        "\n",
        "# Explore the distribution of sentiment labels\n",
        "print(\"\\nSentiment Label Distribution:\")\n",
        "print(df['sentiment'].value_counts())\n",
        "\n",
        "# Size of the dataset\n",
        "print(\"\\nDataset Size:\")\n",
        "print(\"Number of Rows:\", df.shape[0])\n",
        "print(\"Number of Columns:\", df.shape[1])\n"
      ]
    },
    {
      "cell_type": "code",
      "execution_count": null,
      "metadata": {
        "colab": {
          "base_uri": "https://localhost:8080/"
        },
        "id": "F9rowIuGLGvO",
        "outputId": "5ad871c0-a6eb-4b95-a8b9-20bf6a2a9e8d"
      },
      "outputs": [
        {
          "name": "stderr",
          "output_type": "stream",
          "text": [
            "[nltk_data] Downloading package punkt to /root/nltk_data...\n",
            "[nltk_data]   Unzipping tokenizers/punkt.zip.\n",
            "[nltk_data] Downloading package stopwords to /root/nltk_data...\n",
            "[nltk_data]   Unzipping corpora/stopwords.zip.\n",
            "[nltk_data] Downloading package wordnet to /root/nltk_data...\n"
          ]
        },
        {
          "name": "stdout",
          "output_type": "stream",
          "text": [
            "                                                text  \\\n",
            "0                I`d have responded, if I were going   \n",
            "1      Sooo SAD I will miss you here in San Diego!!!   \n",
            "2                          my boss is bullying me...   \n",
            "3                     what interview! leave me alone   \n",
            "4   Sons of ****, why couldn`t they put them on t...   \n",
            "\n",
            "                           processed_text  \n",
            "0                      id responded going  \n",
            "1                 sooo sad miss san diego  \n",
            "2                            bos bullying  \n",
            "3                   interview leave alone  \n",
            "4  son couldnt put release already bought  \n"
          ]
        }
      ],
      "source": [
        "import pandas as pd\n",
        "import nltk\n",
        "from nltk.corpus import stopwords\n",
        "from nltk.tokenize import word_tokenize\n",
        "from nltk.stem import WordNetLemmatizer\n",
        "import string\n",
        "\n",
        "# Download NLTK resources\n",
        "nltk.download('punkt')\n",
        "nltk.download('stopwords')\n",
        "nltk.download('wordnet')\n",
        "\n",
        "\n",
        "# Check for missing values in the 'text' column\n",
        "df['text'].fillna('', inplace=True)\n",
        "\n",
        "\n",
        "\n",
        "\n",
        "# Text Preprocessing\n",
        "def preprocess_text(text):\n",
        "    # Lowercasing\n",
        "    text = text.lower() if isinstance(text, str) else text\n",
        "\n",
        "    # Removing special characters and numbers\n",
        "    text = ''.join([char for char in text if char.isalpha() or char.isspace()])\n",
        "\n",
        "    # Removing stop words\n",
        "    stop_words = set(stopwords.words('english'))\n",
        "    word_tokens = word_tokenize(text)\n",
        "    filtered_text = [word for word in word_tokens if word not in stop_words]\n",
        "\n",
        "    # Lemmatization\n",
        "    lemmatizer = WordNetLemmatizer()\n",
        "    lemmatized_text = [lemmatizer.lemmatize(word) for word in filtered_text]\n",
        "\n",
        "    return ' '.join(lemmatized_text)\n",
        "\n",
        "# Apply the preprocessing function to the 'text' column\n",
        "df['processed_text'] = df['text'].apply(preprocess_text)\n",
        "\n",
        "# Display the processed text\n",
        "print(df[['text', 'processed_text']].head())\n"
      ]
    },
    {
      "cell_type": "code",
      "execution_count": null,
      "metadata": {
        "colab": {
          "base_uri": "https://localhost:8080/"
        },
        "id": "nHg4bpL3_beJ",
        "outputId": "f4a1a9d8-022c-4372-f251-7beba3027bfb"
      },
      "outputs": [
        {
          "name": "stdout",
          "output_type": "stream",
          "text": [
            "1\n"
          ]
        }
      ],
      "source": [
        "print(df['selected_text'].isna().sum())"
      ]
    },
    {
      "cell_type": "code",
      "execution_count": null,
      "metadata": {
        "colab": {
          "base_uri": "https://localhost:8080/"
        },
        "id": "cN_ZLICC_jqr",
        "outputId": "c4f00468-4c11-4b15-bbbe-91ae71b0ce8c"
      },
      "outputs": [
        {
          "name": "stderr",
          "output_type": "stream",
          "text": [
            "<ipython-input-6-d44a37f786eb>:5: SettingWithCopyWarning: \n",
            "A value is trying to be set on a copy of a slice from a DataFrame\n",
            "\n",
            "See the caveats in the documentation: https://pandas.pydata.org/pandas-docs/stable/user_guide/indexing.html#returning-a-view-versus-a-copy\n",
            "  df['selected_text'].fillna('placeholder_text', inplace=True)\n",
            "<ipython-input-6-d44a37f786eb>:6: SettingWithCopyWarning: \n",
            "A value is trying to be set on a copy of a slice from a DataFrame.\n",
            "Try using .loc[row_indexer,col_indexer] = value instead\n",
            "\n",
            "See the caveats in the documentation: https://pandas.pydata.org/pandas-docs/stable/user_guide/indexing.html#returning-a-view-versus-a-copy\n",
            "  df['selected_text'] = df['selected_text'].astype(str)\n"
          ]
        }
      ],
      "source": [
        "# Remove rows with NaN values\n",
        "df = df.dropna(subset=['selected_text'])\n",
        "\n",
        "# Impute NaN values with a placeholder text\n",
        "df['selected_text'].fillna('placeholder_text', inplace=True)\n",
        "df['selected_text'] = df['selected_text'].astype(str)"
      ]
    },
    {
      "cell_type": "code",
      "execution_count": null,
      "metadata": {
        "id": "ZPEwIWKRMG53"
      },
      "outputs": [],
      "source": [
        "import pandas as pd\n",
        "import matplotlib.pyplot as plt\n",
        "import seaborn as sns"
      ]
    },
    {
      "cell_type": "code",
      "execution_count": null,
      "metadata": {
        "colab": {
          "base_uri": "https://localhost:8080/",
          "height": 1000
        },
        "id": "8t20L69jNUCL",
        "outputId": "b06e7b72-cfa8-401a-e81c-ad2781fb4fdb"
      },
      "outputs": [
        {
          "data": {
            "image/png": "[encoded data removed]",
            "text/plain": [
              "<Figure size 800x600 with 1 Axes>"
            ]
          },
          "metadata": {},
          "output_type": "display_data"
        },
        {
          "data": {
            "image/png": "[encoded data removed]",
            "text/plain": [
              "<Figure size 800x800 with 1 Axes>"
            ]
          },
          "metadata": {},
          "output_type": "display_data"
        }
      ],
      "source": [
        "# Display a histogram for sentiment label distribution\n",
        "plt.figure(figsize=(8, 6))\n",
        "sns.countplot(x='sentiment', data=df)\n",
        "plt.title('Sentiment Label Distribution')\n",
        "plt.xlabel('Sentiment Labels')\n",
        "plt.ylabel('Count')\n",
        "plt.show()\n",
        "\n",
        "# Display a pie chart for sentiment label distribution\n",
        "plt.figure(figsize=(8, 8))\n",
        "df['sentiment'].value_counts().plot.pie(autopct='%1.1f%%', startangle=90)\n",
        "plt.title('Sentiment Label Distribution')\n",
        "plt.ylabel('')\n",
        "plt.show()"
      ]
    },
    {
      "cell_type": "code",
      "execution_count": null,
      "metadata": {
        "id": "kxwCRfzaNXr6"
      },
      "outputs": [],
      "source": [
        "from gensim.models import Word2Vec"
      ]
    },
    {
      "cell_type": "code",
      "execution_count": null,
      "metadata": {
        "colab": {
          "base_uri": "https://localhost:8080/"
        },
        "id": "V8F-LEJuN7tV",
        "outputId": "15cfe73c-a0b5-4466-d1f9-0c678acddb28"
      },
      "outputs": [
        {
          "name": "stdout",
          "output_type": "stream",
          "text": [
            "                           processed_text  \\\n",
            "0                      id responded going   \n",
            "1                 sooo sad miss san diego   \n",
            "2                            bos bullying   \n",
            "3                   interview leave alone   \n",
            "4  son couldnt put release already bought   \n",
            "\n",
            "                                     vectorized_text  \n",
            "0  [-0.27589855, 0.60107464, -0.016186574, 0.1068...  \n",
            "1  [-0.24601439, 0.54588425, -0.001336153, 0.1229...  \n",
            "2  [-0.032948148, 0.06374255, 0.0041510696, 0.016...  \n",
            "3  [-0.17984472, 0.4633496, -0.024835482, 0.09771...  \n",
            "4  [-0.22664028, 0.5552239, -0.0154908225, 0.1304...  \n"
          ]
        }
      ],
      "source": [
        "df['processed_text'].fillna('', inplace=True)\n",
        "\n",
        "# Tokenization and remove stop words\n",
        "stop_words = set(stopwords.words('english'))\n",
        "df['tokenized_text'] = df['processed_text'].apply(lambda x: [word for word in word_tokenize(x) if word.lower() not in stop_words and word not in string.punctuation])\n",
        "\n",
        "# Train Word2Vec model\n",
        "word2vec_model = Word2Vec(sentences=df['tokenized_text'], vector_size=100, window=5, min_count=1, workers=4)\n",
        "\n",
        "# Function to get the vector representation of a document\n",
        "def get_vector(text):\n",
        "    vector = [word2vec_model.wv[word] for word in text if word in word2vec_model.wv]\n",
        "    return sum(vector) / len(vector) if vector else [0] * 100  # Return zero vector if no words in the model\n",
        "\n",
        "# Apply the vectorization function to the 'tokenized_text' column\n",
        "df['vectorized_text'] = df['tokenized_text'].apply(get_vector)\n",
        "\n",
        "# Display the resulting DataFrame\n",
        "print(df[['processed_text', 'vectorized_text']].head())"
      ]
    },
    {
      "cell_type": "code",
      "execution_count": null,
      "metadata": {
        "id": "gfOijSOSOC_w"
      },
      "outputs": [],
      "source": [
        "from sklearn.model_selection import train_test_split\n",
        "from sklearn.feature_extraction.text import TfidfVectorizer\n",
        "from sklearn.svm import SVC\n",
        "from sklearn.metrics import accuracy_score, precision_score, recall_score, f1_score, classification_report\n",
        "from keras.preprocessing.text import Tokenizer\n",
        "from keras.preprocessing.sequence import pad_sequences\n",
        "from keras.models import Sequential\n",
        "from keras.layers import Embedding, LSTM, Dense\n",
        "from sklearn.preprocessing import LabelEncoder\n",
        "from sklearn.metrics import confusion_matrix\n"
      ]
    },
    {
      "cell_type": "code",
      "execution_count": null,
      "metadata": {
        "colab": {
          "base_uri": "https://localhost:8080/"
        },
        "id": "A_qOUQMfOuIB",
        "outputId": "531218ff-8975-44f8-ed99-e47b490ba70e"
      },
      "outputs": [
        {
          "name": "stdout",
          "output_type": "stream",
          "text": [
            "SVM Metrics:\n",
            "Accuracy: 0.6901382823871907\n",
            "Precision: 0.7077758844609202\n",
            "Recall: 0.6901382823871907\n",
            "F1 Score: 0.6880613687115346\n",
            "\n",
            "Classification Report:\n",
            "              precision    recall  f1-score   support\n",
            "\n",
            "    negative       0.75      0.53      0.62      1572\n",
            "     neutral       0.62      0.80      0.69      2236\n",
            "    positive       0.79      0.69      0.74      1688\n",
            "\n",
            "    accuracy                           0.69      5496\n",
            "   macro avg       0.72      0.67      0.69      5496\n",
            "weighted avg       0.71      0.69      0.69      5496\n",
            "\n"
          ]
        }
      ],
      "source": [
        "# Split the data into training and testing sets\n",
        "X_train, X_test, y_train, y_test = train_test_split(df['processed_text'], df['sentiment'], test_size=0.2, random_state=42)\n",
        "\n",
        "# Vectorize the text data using TF-IDF for SVM\n",
        "tfidf_vectorizer = TfidfVectorizer(max_features=5000)\n",
        "X_train_tfidf = tfidf_vectorizer.fit_transform(X_train)\n",
        "X_test_tfidf = tfidf_vectorizer.transform(X_test)\n",
        "\n",
        "# SVM model\n",
        "svm_model = SVC()\n",
        "svm_model.fit(X_train_tfidf, y_train)\n",
        "svm_predictions = svm_model.predict(X_test_tfidf)\n",
        "\n",
        "# Evaluate SVM performance\n",
        "print(\"SVM Metrics:\")\n",
        "print(\"Accuracy:\", accuracy_score(y_test, svm_predictions))\n",
        "print(\"Precision:\", precision_score(y_test, svm_predictions, average='weighted'))\n",
        "print(\"Recall:\", recall_score(y_test, svm_predictions, average='weighted'))\n",
        "print(\"F1 Score:\", f1_score(y_test, svm_predictions, average='weighted'))\n",
        "print(\"\\nClassification Report:\")\n",
        "print(classification_report(y_test, svm_predictions))\n"
      ]
    },
    {
      "cell_type": "code",
      "execution_count": null,
      "metadata": {
        "colab": {
          "base_uri": "https://localhost:8080/"
        },
        "id": "ZrHLSHLZO3VB",
        "outputId": "ab5ab86c-3b6d-4e86-e519-e56e1870c202"
      },
      "outputs": [
        {
          "name": "stdout",
          "output_type": "stream",
          "text": [
            "Epoch 1/15\n",
            "619/619 [==============================] - 22s 31ms/step - loss: -4.1958 - accuracy: 0.4059 - val_loss: -9.5160 - val_accuracy: 0.4152\n",
            "Epoch 2/15\n",
            "619/619 [==============================] - 21s 34ms/step - loss: -13.1516 - accuracy: 0.4028 - val_loss: -15.3977 - val_accuracy: 0.4152\n",
            "Epoch 3/15\n",
            "619/619 [==============================] - 21s 34ms/step - loss: -23.3860 - accuracy: 0.4027 - val_loss: -27.5259 - val_accuracy: 0.4152\n",
            "Epoch 4/15\n",
            "619/619 [==============================] - 21s 34ms/step - loss: -34.1567 - accuracy: 0.4035 - val_loss: -31.6820 - val_accuracy: 0.4288\n",
            "Epoch 5/15\n",
            "619/619 [==============================] - 20s 32ms/step - loss: -44.7187 - accuracy: 0.4229 - val_loss: -45.2670 - val_accuracy: 0.4152\n",
            "Epoch 6/15\n",
            "619/619 [==============================] - 21s 34ms/step - loss: -60.0069 - accuracy: 0.4638 - val_loss: -54.3307 - val_accuracy: 0.4416\n",
            "Epoch 7/15\n",
            "619/619 [==============================] - 20s 32ms/step - loss: -27.1177 - accuracy: 0.4254 - val_loss: -30.5799 - val_accuracy: 0.4006\n",
            "Epoch 8/15\n",
            "619/619 [==============================] - 21s 34ms/step - loss: -43.8694 - accuracy: 0.4083 - val_loss: -43.8692 - val_accuracy: 0.4152\n",
            "Epoch 9/15\n",
            "619/619 [==============================] - 20s 32ms/step - loss: -58.1176 - accuracy: 0.4098 - val_loss: -55.9315 - val_accuracy: 0.4457\n",
            "Epoch 10/15\n",
            "619/619 [==============================] - 23s 38ms/step - loss: -70.3296 - accuracy: 0.4292 - val_loss: -65.8030 - val_accuracy: 0.4475\n",
            "Epoch 11/15\n",
            "619/619 [==============================] - 21s 33ms/step - loss: -84.2816 - accuracy: 0.4745 - val_loss: -78.7567 - val_accuracy: 0.4811\n",
            "Epoch 12/15\n",
            "619/619 [==============================] - 21s 34ms/step - loss: -98.5672 - accuracy: 0.5092 - val_loss: -90.5597 - val_accuracy: 0.4984\n",
            "Epoch 13/15\n",
            "619/619 [==============================] - 20s 33ms/step - loss: -113.1344 - accuracy: 0.5273 - val_loss: -94.5889 - val_accuracy: 0.4980\n",
            "Epoch 14/15\n",
            "619/619 [==============================] - 22s 35ms/step - loss: -122.6174 - accuracy: 0.5239 - val_loss: -99.5397 - val_accuracy: 0.4952\n",
            "Epoch 15/15\n",
            "619/619 [==============================] - 20s 32ms/step - loss: -133.3636 - accuracy: 0.5306 - val_loss: -112.5651 - val_accuracy: 0.5066\n",
            "172/172 [==============================] - 2s 8ms/step\n",
            "Accuracy: 0.5040029112081513\n",
            "Precision: 0.3884918625842038\n",
            "Recall: 0.5040029112081513\n",
            "F1 Score: 0.4127448874767506\n",
            "\n",
            "Confusion Matrix:\n",
            " [[ 802  770    0]\n",
            " [ 268 1968    0]\n",
            " [  45 1643    0]]\n"
          ]
        },
        {
          "name": "stderr",
          "output_type": "stream",
          "text": [
            "/usr/local/lib/python3.10/dist-packages/sklearn/metrics/_classification.py:1344: UndefinedMetricWarning: Precision is ill-defined and being set to 0.0 in labels with no predicted samples. Use `zero_division` parameter to control this behavior.\n",
            "  _warn_prf(average, modifier, msg_start, len(result))\n"
          ]
        }
      ],
      "source": [
        "df['processed_text'].fillna('', inplace=True)\n",
        "df['sentiment'].fillna('', inplace=True)\n",
        "\n",
        "# Tokenization and remove stop words\n",
        "stop_words = set(stopwords.words('english'))\n",
        "df['tokenized_text'] = df['processed_text'].apply(lambda x: [word for word in word_tokenize(x) if word.lower() not in stop_words and word not in string.punctuation])\n",
        "\n",
        "# Convert the tokenized text back to string for LSTM\n",
        "df['tokenized_text_str'] = df['tokenized_text'].apply(lambda x: ' '.join(x))\n",
        "\n",
        "# Split the dataset into training and testing sets\n",
        "X_train, X_test, y_train, y_test = train_test_split(df['tokenized_text_str'], df['sentiment'], test_size=0.2, random_state=42)\n",
        "\n",
        "# Convert labels to numerical values\n",
        "label_encoder = LabelEncoder()\n",
        "y_train_encoded = label_encoder.fit_transform(y_train)\n",
        "y_test_encoded = label_encoder.transform(y_test)\n",
        "\n",
        "# Tokenize text\n",
        "max_words = 5000  # You can customize the number of words to use\n",
        "tokenizer = Tokenizer(num_words=max_words, oov_token=\"<OOV>\")\n",
        "tokenizer.fit_on_texts(X_train)\n",
        "\n",
        "# Convert text to sequences\n",
        "X_train_sequences = tokenizer.texts_to_sequences(X_train)\n",
        "X_test_sequences = tokenizer.texts_to_sequences(X_test)\n",
        "\n",
        "# Pad sequences to have the same length\n",
        "max_length = max(len(seq) for seq in X_train_sequences)  # Define max_length here\n",
        "X_train_padded = pad_sequences(X_train_sequences, maxlen=max_length, padding='post')\n",
        "X_test_padded = pad_sequences(X_test_sequences, maxlen=max_length, padding='post')\n",
        "\n",
        "# Build LSTM model\n",
        "model = Sequential()\n",
        "model.add(Embedding(input_dim=max_words, output_dim=100, input_length=max_length))\n",
        "model.add(LSTM(100))\n",
        "model.add(Dense(1, activation='sigmoid'))\n",
        "\n",
        "# Compile the model\n",
        "model.compile(optimizer='adam', loss='binary_crossentropy', metrics=['accuracy'])\n",
        "\n",
        "# Train the model\n",
        "model.fit(X_train_padded, y_train_encoded, epochs=15, batch_size=32, validation_split=0.1)\n",
        "\n",
        "# Evaluate the model\n",
        "predictions = model.predict(X_test_padded)\n",
        "rounded_predictions = [round(pred[0]) for pred in predictions]\n",
        "\n",
        "# Convert rounded predictions back to original labels\n",
        "y_pred = label_encoder.inverse_transform(rounded_predictions)\n",
        "\n",
        "# Evaluate the performance\n",
        "print(\"Accuracy:\", accuracy_score(y_test, y_pred))\n",
        "print(\"Precision:\", precision_score(y_test, y_pred, average='weighted'))\n",
        "print(\"Recall:\", recall_score(y_test, y_pred, average='weighted'))\n",
        "print(\"F1 Score:\", f1_score(y_test, y_pred, average='weighted'))\n",
        "print(\"\\nConfusion Matrix:\\n\", confusion_matrix(y_test, y_pred))"
      ]
    },
    {
      "cell_type": "code",
      "execution_count": null,
      "metadata": {
        "colab": {
          "base_uri": "https://localhost:8080/"
        },
        "id": "q56dc5m9LJDX",
        "outputId": "e1ee47f2-adea-4513-e7cc-0c0dec209fad"
      },
      "outputs": [
        {
          "name": "stdout",
          "output_type": "stream",
          "text": [
            "Cross-Validation Results:\n",
            "Mean Accuracy: 0.832387190684134\n",
            "Mean Precision (weighted): 0.8362212133009844\n",
            "Mean Recall (weighted): 0.832387190684134\n",
            "Mean F1 Score (weighted): 0.8327888560049969\n"
          ]
        }
      ],
      "source": [
        "from sklearn.model_selection import cross_validate, StratifiedKFold\n",
        "from sklearn.svm import SVC\n",
        "from sklearn.preprocessing import LabelEncoder\n",
        "from sklearn.feature_extraction.text import TfidfVectorizer\n",
        "import pandas as pd\n",
        "from sklearn.metrics import make_scorer, accuracy_score, precision_score, recall_score, f1_score\n",
        "\n",
        "# Identify key variables\n",
        "text_content = df['selected_text']\n",
        "sentiment_labels = df['sentiment']\n",
        "\n",
        "\n",
        "# Split the dataset into features (X) and labels (y)\n",
        "X = df['selected_text']\n",
        "y = df['sentiment']\n",
        "\n",
        "# Convert labels to numerical values using LabelEncoder\n",
        "label_encoder = LabelEncoder()\n",
        "y_encoded = label_encoder.fit_transform(y)\n",
        "\n",
        "# Vectorize the text data using TF-IDF Vectorizer\n",
        "vectorizer = TfidfVectorizer(max_features=5000)\n",
        "X_tfidf = vectorizer.fit_transform(X)\n",
        "\n",
        "# SVM model\n",
        "svm_model = SVC(C=1, kernel='linear')\n",
        "\n",
        "# Define evaluation metric(s) for cross-validation\n",
        "scoring = {'accuracy': make_scorer(accuracy_score),\n",
        "           'precision_weighted': make_scorer(precision_score, average='weighted'),\n",
        "           'recall_weighted': make_scorer(recall_score, average='weighted'),\n",
        "           'f1_weighted': make_scorer(f1_score, average='weighted')}\n",
        "\n",
        "# Perform cross-validation with stratified sampling using cross_validate\n",
        "cv = StratifiedKFold(n_splits=5, shuffle=True, random_state=42)\n",
        "\n",
        "# Use cross_validate to get more detailed results\n",
        "svm_cv_results = cross_validate(svm_model, X_tfidf, y_encoded, cv=cv, scoring=scoring)\n",
        "\n",
        "# Display cross-validation results\n",
        "print(\"Cross-Validation Results:\")\n",
        "print(\"Mean Accuracy:\", svm_cv_results['test_accuracy'].mean())\n",
        "print(\"Mean Precision (weighted):\", svm_cv_results['test_precision_weighted'].mean())\n",
        "print(\"Mean Recall (weighted):\", svm_cv_results['test_recall_weighted'].mean())\n",
        "print(\"Mean F1 Score (weighted):\", svm_cv_results['test_f1_weighted'].mean())\n"
      ]
    },
    {
      "cell_type": "code",
      "execution_count": null,
      "metadata": {
        "colab": {
          "base_uri": "https://localhost:8080/"
        },
        "id": "t6XbGRSak2jB",
        "outputId": "7d5ea678-d0ed-45ea-a06c-343518913bbe"
      },
      "outputs": [
        {
          "name": "stdout",
          "output_type": "stream",
          "text": [
            "Epoch 1/5\n",
            "687/687 [==============================] - 49s 67ms/step - loss: 0.6450 - accuracy: 0.7291 - val_loss: 0.5408 - val_accuracy: 0.7817\n",
            "Epoch 2/5\n",
            "687/687 [==============================] - 40s 58ms/step - loss: 0.4261 - accuracy: 0.8482 - val_loss: 0.4681 - val_accuracy: 0.8308\n",
            "Epoch 3/5\n",
            "687/687 [==============================] - 55s 81ms/step - loss: 0.3604 - accuracy: 0.8712 - val_loss: 0.4739 - val_accuracy: 0.8264\n",
            "Epoch 4/5\n",
            "687/687 [==============================] - 29s 42ms/step - loss: 0.3174 - accuracy: 0.8877 - val_loss: 0.5109 - val_accuracy: 0.8217\n",
            "Epoch 5/5\n",
            "687/687 [==============================] - 29s 42ms/step - loss: 0.2908 - accuracy: 0.8964 - val_loss: 0.5318 - val_accuracy: 0.8268\n",
            "172/172 [==============================] - 3s 13ms/step\n",
            "Epoch 1/5\n",
            "687/687 [==============================] - 33s 44ms/step - loss: 0.6612 - accuracy: 0.7259 - val_loss: 0.5535 - val_accuracy: 0.7780\n",
            "Epoch 2/5\n",
            "687/687 [==============================] - 33s 48ms/step - loss: 0.4219 - accuracy: 0.8451 - val_loss: 0.4589 - val_accuracy: 0.8231\n",
            "Epoch 3/5\n",
            "687/687 [==============================] - 29s 42ms/step - loss: 0.3510 - accuracy: 0.8756 - val_loss: 0.4685 - val_accuracy: 0.8255\n",
            "Epoch 4/5\n",
            "687/687 [==============================] - 28s 41ms/step - loss: 0.3215 - accuracy: 0.8862 - val_loss: 0.5162 - val_accuracy: 0.8079\n",
            "Epoch 5/5\n",
            "687/687 [==============================] - 29s 42ms/step - loss: 0.2848 - accuracy: 0.9001 - val_loss: 0.5297 - val_accuracy: 0.8253\n",
            "172/172 [==============================] - 2s 12ms/step\n",
            "Epoch 1/5\n",
            "687/687 [==============================] - 31s 42ms/step - loss: 0.6684 - accuracy: 0.7232 - val_loss: 0.4998 - val_accuracy: 0.8135\n",
            "Epoch 2/5\n",
            "687/687 [==============================] - 29s 42ms/step - loss: 0.4463 - accuracy: 0.8367 - val_loss: 0.4801 - val_accuracy: 0.8259\n",
            "Epoch 3/5\n",
            "687/687 [==============================] - 29s 42ms/step - loss: 0.3705 - accuracy: 0.8681 - val_loss: 0.4699 - val_accuracy: 0.8368\n",
            "Epoch 4/5\n",
            "687/687 [==============================] - 28s 41ms/step - loss: 0.3208 - accuracy: 0.8853 - val_loss: 0.4677 - val_accuracy: 0.8297\n",
            "Epoch 5/5\n",
            "687/687 [==============================] - 30s 44ms/step - loss: 0.2926 - accuracy: 0.8971 - val_loss: 0.4973 - val_accuracy: 0.8317\n",
            "172/172 [==============================] - 3s 13ms/step\n",
            "Epoch 1/5\n",
            "687/687 [==============================] - 31s 42ms/step - loss: 0.6779 - accuracy: 0.7064 - val_loss: 0.4853 - val_accuracy: 0.8199\n",
            "Epoch 2/5\n",
            "687/687 [==============================] - 29s 42ms/step - loss: 0.4344 - accuracy: 0.8408 - val_loss: 0.4549 - val_accuracy: 0.8279\n",
            "Epoch 3/5\n",
            "687/687 [==============================] - 28s 41ms/step - loss: 0.3600 - accuracy: 0.8695 - val_loss: 0.4868 - val_accuracy: 0.8090\n",
            "Epoch 4/5\n",
            "687/687 [==============================] - 29s 42ms/step - loss: 0.3229 - accuracy: 0.8856 - val_loss: 0.4767 - val_accuracy: 0.8304\n",
            "Epoch 5/5\n",
            "687/687 [==============================] - 29s 42ms/step - loss: 0.2890 - accuracy: 0.8952 - val_loss: 0.5269 - val_accuracy: 0.8311\n",
            "172/172 [==============================] - 2s 12ms/step\n",
            "Epoch 1/5\n",
            "687/687 [==============================] - 32s 43ms/step - loss: 0.6800 - accuracy: 0.7080 - val_loss: 0.5078 - val_accuracy: 0.8088\n",
            "Epoch 2/5\n",
            "687/687 [==============================] - 28s 41ms/step - loss: 0.4288 - accuracy: 0.8414 - val_loss: 0.4808 - val_accuracy: 0.8264\n",
            "Epoch 3/5\n",
            "687/687 [==============================] - 28s 41ms/step - loss: 0.3647 - accuracy: 0.8679 - val_loss: 0.4602 - val_accuracy: 0.8353\n",
            "Epoch 4/5\n",
            "687/687 [==============================] - 29s 42ms/step - loss: 0.3210 - accuracy: 0.8864 - val_loss: 0.4554 - val_accuracy: 0.8224\n",
            "Epoch 5/5\n",
            "687/687 [==============================] - 30s 44ms/step - loss: 0.2875 - accuracy: 0.8980 - val_loss: 0.5460 - val_accuracy: 0.8224\n",
            "172/172 [==============================] - 2s 11ms/step\n",
            "Cross-Validation Accuracies: [0.826783114992722, 0.8253275109170306, 0.8316957787481805, 0.8311499272197962, 0.8224163027656477]\n",
            "Mean Accuracy: 0.8274745269286754\n"
          ]
        }
      ],
      "source": [
        "from sklearn.model_selection import StratifiedKFold\n",
        "from sklearn.preprocessing import LabelEncoder\n",
        "from sklearn.metrics import accuracy_score\n",
        "from keras.models import Sequential\n",
        "from keras.layers import Embedding, LSTM, Dense\n",
        "from keras.preprocessing.text import Tokenizer\n",
        "from keras.preprocessing.sequence import pad_sequences\n",
        "from keras.utils import to_categorical\n",
        "import numpy as np\n",
        "\n",
        "\n",
        "# Identify key variables\n",
        "text_content = df['selected_text']\n",
        "sentiment_labels = df['sentiment']\n",
        "\n",
        "# Split the dataset into features (X) and labels (y)\n",
        "X = df['selected_text']\n",
        "y = df['sentiment']\n",
        "\n",
        "# Convert labels to numerical values using LabelEncoder\n",
        "label_encoder = LabelEncoder()\n",
        "y_encoded = label_encoder.fit_transform(y)\n",
        "\n",
        "# Tokenize text\n",
        "max_words = 5000\n",
        "tokenizer = Tokenizer(num_words=max_words, oov_token=\"<OOV>\")\n",
        "tokenizer.fit_on_texts(X)\n",
        "\n",
        "# Convert text to sequences\n",
        "X_sequences = tokenizer.texts_to_sequences(X)\n",
        "\n",
        "# Pad sequences to have the same length\n",
        "max_length = max(len(seq) for seq in X_sequences)  # Define max_length here\n",
        "X_padded = pad_sequences(X_sequences, maxlen=max_length, padding='post')\n",
        "\n",
        "# Define LSTM model\n",
        "def create_lstm_model():\n",
        "    model = Sequential()\n",
        "    model.add(Embedding(input_dim=max_words, output_dim=100, input_length=max_length))\n",
        "    model.add(LSTM(100))\n",
        "    model.add(Dense(len(label_encoder.classes_), activation='softmax'))\n",
        "    model.compile(optimizer='adam', loss='categorical_crossentropy', metrics=['accuracy'])\n",
        "    return model\n",
        "\n",
        "# Convert labels to categorical for LSTM\n",
        "y_categorical = to_categorical(y_encoded, num_classes=len(label_encoder.classes_))\n",
        "\n",
        "# Initialize StratifiedKFold\n",
        "cv = StratifiedKFold(n_splits=2, shuffle=True, random_state=42)\n",
        "\n",
        "\n",
        "# Perform cross-validation\n",
        "fold_accuracies = []\n",
        "\n",
        "for train_index, test_index in cv.split(X_padded, y_encoded):\n",
        "    X_train_fold, X_test_fold = X_padded[train_index], X_padded[test_index]\n",
        "    y_train_fold, y_test_fold = y_categorical[train_index], y_categorical[test_index]\n",
        "\n",
        "    model = create_lstm_model()\n",
        "    model.fit(X_train_fold, y_train_fold, epochs=5, batch_size=32, validation_data=(X_test_fold, y_test_fold))\n",
        "\n",
        "    # Evaluate the model on the test fold\n",
        "    fold_probabilities = model.predict(X_test_fold)\n",
        "    fold_predictions = np.argmax(fold_probabilities, axis=1)\n",
        "    fold_accuracy = accuracy_score(np.argmax(y_test_fold, axis=1), fold_predictions)\n",
        "    fold_accuracies.append(fold_accuracy)\n",
        "\n",
        "print(\"Cross-Validation Accuracies:\", fold_accuracies)\n",
        "print(\"Mean Accuracy:\", np.mean(fold_accuracies))"
      ]
    },
    {
      "cell_type": "code",
      "execution_count": null,
      "metadata": {
        "id": "R-ySsePKkETt"
      },
      "outputs": [],
      "source": []
    }
  ],
  "metadata": {
    "colab": {
      "provenance": []
    },
    "kernelspec": {
      "display_name": "Python 3",
      "name": "python3"
    },
    "language_info": {
      "name": "python"
    }
  },
  "nbformat": 4,
  "nbformat_minor": 0
}